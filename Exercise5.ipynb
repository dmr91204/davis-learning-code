{
 "cells": [
  {
   "cell_type": "code",
   "execution_count": 22,
   "id": "a2b8914a-0427-49f7-8227-33c95aa78181",
   "metadata": {},
   "outputs": [
    {
     "name": "stdout",
     "output_type": "stream",
     "text": [
      "7\n",
      "1.0\n",
      "2.449489742783178\n",
      "[2.6457513110645907]\n",
      "[1, 4, 3, 5, 9, 6, 8, 11, 13]\n",
      "[4, 9, 11]\n",
      "[1, 3, 4, 5, 6, 8, 9, 11, 13, 52]\n",
      "14\n"
     ]
    }
   ],
   "source": [
    "a = [1, 4, 3, 5, 9, 6, 8, 11, 13, 52]\n",
    "x = a[0]\n",
    "y = a[5]\n",
    "import math\n",
    "print(x+y)\n",
    "print(math.sqrt(x))\n",
    "print(math.sqrt(y))\n",
    "b = []\n",
    "b.append(math.sqrt(x+y))\n",
    "print(b)\n",
    "a[::-1]\n",
    "print(a[0:9:1])\n",
    "print(a[1:8:3])\n",
    "a.sort()\n",
    "print(a)\n",
    "c = [55, 58, 60, 70]\n",
    "a.extend(c)\n",
    "print(len(a))\n",
    "del a"
   ]
  },
  {
   "cell_type": "code",
   "execution_count": 40,
   "id": "79347bc1-63e5-4c2f-92c5-12a49171fe2e",
   "metadata": {},
   "outputs": [
    {
     "name": "stdout",
     "output_type": "stream",
     "text": [
      "4\n"
     ]
    }
   ],
   "source": [
    "d = [1,3,\"5\"]\n",
    "d[0] + d[1] + int(d[2])\n",
    "del d[-1]\n",
    "print(d[0] + d[1])"
   ]
  },
  {
   "cell_type": "code",
   "execution_count": 45,
   "id": "44ec7431-44d7-43bc-91cb-493bf499a59e",
   "metadata": {},
   "outputs": [
    {
     "name": "stdout",
     "output_type": "stream",
     "text": [
      "10 20 30.5 40\n",
      "False\n"
     ]
    },
    {
     "data": {
      "text/plain": [
       "[10, '20', 30.5, 40, 'wow']"
      ]
     },
     "execution_count": 45,
     "metadata": {},
     "output_type": "execute_result"
    }
   ],
   "source": [
    "f = 10, \"20\", 30.5, 40\n",
    "f, g, h, i = 10, \"20\", 30.5, 40\n",
    "print(f, g, h, i)\n",
    "f = 10, \"20\", 30.5, 40, \"wow\"\n",
    "print(6 in f)\n",
    "list(f)"
   ]
  },
  {
   "cell_type": "code",
   "execution_count": 55,
   "id": "1c7eee5d-b804-4d06-b2d1-ee5bd5cfe0e0",
   "metadata": {},
   "outputs": [
    {
     "ename": "TypeError",
     "evalue": "'tuple' object doesn't support item deletion",
     "output_type": "error",
     "traceback": [
      "\u001b[1;31m---------------------------------------------------------------------------\u001b[0m",
      "\u001b[1;31mTypeError\u001b[0m                                 Traceback (most recent call last)",
      "Input \u001b[1;32mIn [55]\u001b[0m, in \u001b[0;36m<cell line: 4>\u001b[1;34m()\u001b[0m\n\u001b[0;32m      2\u001b[0m k \u001b[38;5;241m=\u001b[39m (j[\u001b[38;5;241m0\u001b[39m]\u001b[38;5;241m*\u001b[39m\u001b[38;5;241m0.0394\u001b[39m, j[\u001b[38;5;241m1\u001b[39m]\u001b[38;5;241m*\u001b[39m\u001b[38;5;241m0.0394\u001b[39m)\n\u001b[0;32m      3\u001b[0m k\n\u001b[1;32m----> 4\u001b[0m \u001b[38;5;28;01mdel\u001b[39;00m j[\u001b[38;5;241m1\u001b[39m]\n",
      "\u001b[1;31mTypeError\u001b[0m: 'tuple' object doesn't support item deletion"
     ]
    }
   ],
   "source": [
    "j = 42, 31\n",
    "k = (j[0]*0.0394, j[1]*0.0394)\n",
    "k\n",
    "del j[1]"
   ]
  },
  {
   "cell_type": "code",
   "execution_count": null,
   "id": "7ca18189-67e2-4ad3-9397-3adb77adb531",
   "metadata": {},
   "outputs": [],
   "source": [
    "The operation was not successful, for tuples are immutable."
   ]
  },
  {
   "cell_type": "code",
   "execution_count": 104,
   "id": "898b657b-4631-40c0-85d2-9364c59a24e6",
   "metadata": {},
   "outputs": [
    {
     "name": "stdout",
     "output_type": "stream",
     "text": [
      "w i m d\n",
      "5 2 2 3\n",
      "This is a quote: 'The world is round'\n",
      "This is a quarter of hundred: 25.0\n",
      "['The', 'cost', 'of', 'this', 'book', 'is', '100', 'bucks']\n",
      "{'The cost of this book is 100 bucks'}\n"
     ]
    }
   ],
   "source": [
    "m = [\"where\",\"is\",\"my\",\"dog\"]\n",
    "print(m[0][0],m[1][0],m[2][0],m[3][0])\n",
    "print(len(m[0]), len(m[1]), len(m[2]), len(m[3]))\n",
    "print(f\"This is a quote: 'The world is round'\")\n",
    "print(f\"This is a quarter of hundred: {100/4}\")\n",
    "sentence = \"The cost of this book is 100 bucks\"\n",
    "newnew = sentence.split()\n",
    "print(newnew)\n",
    "print({' '.join(newnew)})"
   ]
  },
  {
   "cell_type": "code",
   "execution_count": null,
   "id": "6591b3ca-a738-49c8-8cc3-0d7eb2069247",
   "metadata": {},
   "outputs": [],
   "source": []
  }
 ],
 "metadata": {
  "kernelspec": {
   "display_name": "base",
   "language": "python",
   "name": "base"
  },
  "language_info": {
   "codemirror_mode": {
    "name": "ipython",
    "version": 3
   },
   "file_extension": ".py",
   "mimetype": "text/x-python",
   "name": "python",
   "nbconvert_exporter": "python",
   "pygments_lexer": "ipython3",
   "version": "3.9.12"
  }
 },
 "nbformat": 4,
 "nbformat_minor": 5
}
