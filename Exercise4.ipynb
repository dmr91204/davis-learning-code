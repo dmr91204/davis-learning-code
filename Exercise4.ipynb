{
 "cells": [
  {
   "cell_type": "code",
   "execution_count": 39,
   "id": "bde4822c-10a5-4e79-afc7-76ed78ef6048",
   "metadata": {},
   "outputs": [
    {
     "name": "stdout",
     "output_type": "stream",
     "text": [
      "<class 'int'>\n",
      "<class 'float'>\n",
      "<class 'str'>\n"
     ]
    }
   ],
   "source": [
    "x = 3\n",
    "y = 15.8\n",
    "n = \"numbers\"\n",
    "print(type(x))\n",
    "print(type(y))\n",
    "print(type(n))"
   ]
  },
  {
   "cell_type": "code",
   "execution_count": 46,
   "id": "dda0df9c-3b9b-4b90-bd2a-90429af29705",
   "metadata": {},
   "outputs": [
    {
     "name": "stdout",
     "output_type": "stream",
     "text": [
      "15\n",
      "3\n",
      "True\n"
     ]
    }
   ],
   "source": [
    "y = int(y)\n",
    "x = str(x)\n",
    "n = bool(n)\n",
    "print(y)\n",
    "print(x)\n",
    "print(n)\n",
    "\n",
    "\n"
   ]
  },
  {
   "cell_type": "code",
   "execution_count": 59,
   "id": "a8750f9a-8f46-4e7a-8050-49994f274ea3",
   "metadata": {},
   "outputs": [
    {
     "name": "stdout",
     "output_type": "stream",
     "text": [
      "3 and 15 are True\n"
     ]
    }
   ],
   "source": [
    "print (x,\"and\",y,\"are\",n,)"
   ]
  },
  {
   "cell_type": "code",
   "execution_count": 67,
   "id": "8895eeb0-a26d-4d04-9e66-f3bafccf0dd0",
   "metadata": {},
   "outputs": [
    {
     "data": {
      "text/plain": [
       "False"
      ]
     },
     "execution_count": 67,
     "metadata": {},
     "output_type": "execute_result"
    }
   ],
   "source": [
    "'games' == 'Games'"
   ]
  },
  {
   "cell_type": "code",
   "execution_count": 69,
   "id": "9c788279-9d14-4448-a49b-654a3c748f59",
   "metadata": {},
   "outputs": [
    {
     "ename": "NameError",
     "evalue": "name 'Deer' is not defined",
     "output_type": "error",
     "traceback": [
      "\u001b[1;31m---------------------------------------------------------------------------\u001b[0m",
      "\u001b[1;31mNameError\u001b[0m                                 Traceback (most recent call last)",
      "Input \u001b[1;32mIn [69]\u001b[0m, in \u001b[0;36m<cell line: 1>\u001b[1;34m()\u001b[0m\n\u001b[1;32m----> 1\u001b[0m First_Name \u001b[38;5;241m=\u001b[39m \u001b[43mDeer\u001b[49m\n",
      "\u001b[1;31mNameError\u001b[0m: name 'Deer' is not defined"
     ]
    }
   ],
   "source": [
    "First_Name = Deer"
   ]
  },
  {
   "cell_type": "code",
   "execution_count": null,
   "id": "f479b23f-763f-4cc7-85b7-be46391e7ac2",
   "metadata": {},
   "outputs": [],
   "source": [
    "Either Deer hasn't been defined as a variable, or Deer is not recognized as any of the datatypes."
   ]
  },
  {
   "cell_type": "code",
   "execution_count": 73,
   "id": "c5666b47-2f86-4eea-9ae2-63f6b40243a0",
   "metadata": {},
   "outputs": [],
   "source": [
    "x = 10\n",
    "y = 3.5\n",
    "z = 13"
   ]
  },
  {
   "cell_type": "code",
   "execution_count": 76,
   "id": "ee4995c3-207c-4c4a-a3ad-056d5dbf3e7b",
   "metadata": {},
   "outputs": [
    {
     "data": {
      "text/plain": [
       "13.90350790290525"
      ]
     },
     "execution_count": 76,
     "metadata": {},
     "output_type": "execute_result"
    }
   ],
   "source": [
    "x**(1/2)/y + z"
   ]
  },
  {
   "cell_type": "code",
   "execution_count": 77,
   "id": "07b416b3-7d9e-45ad-a3f0-6c95b06495cc",
   "metadata": {},
   "outputs": [
    {
     "data": {
      "text/plain": [
       "182.25"
      ]
     },
     "execution_count": 77,
     "metadata": {},
     "output_type": "execute_result"
    }
   ],
   "source": [
    "(x + y)**2"
   ]
  },
  {
   "cell_type": "code",
   "execution_count": 79,
   "id": "c1209ae5-00b1-4a02-b379-21deaa02594b",
   "metadata": {},
   "outputs": [
    {
     "data": {
      "text/plain": [
       "2.7883335258594824e-08"
      ]
     },
     "execution_count": 79,
     "metadata": {},
     "output_type": "execute_result"
    }
   ],
   "source": [
    "2.718**(-2*x)*(y+x)"
   ]
  },
  {
   "cell_type": "code",
   "execution_count": 98,
   "id": "a85ae867-d885-4461-89bb-2b9890f6c190",
   "metadata": {},
   "outputs": [
    {
     "name": "stdout",
     "output_type": "stream",
     "text": [
      "24.170242147568278 kg/m**2\n"
     ]
    }
   ],
   "source": [
    "print((70/(1.7018)**2),('kg/m**2'),)"
   ]
  },
  {
   "cell_type": "code",
   "execution_count": 110,
   "id": "392a80d3-d8af-4bed-a7e5-715d673f8d54",
   "metadata": {},
   "outputs": [
    {
     "name": "stdout",
     "output_type": "stream",
     "text": [
      "9.539392014169456\n"
     ]
    }
   ],
   "source": [
    "import math\n",
    "b = math.sqrt((10**2)-(3**2))\n",
    "print(b)"
   ]
  },
  {
   "cell_type": "code",
   "execution_count": 116,
   "id": "332b99ba-52bc-4ea6-a7d2-8f67dd322b24",
   "metadata": {
    "tags": []
   },
   "outputs": [
    {
     "name": "stdout",
     "output_type": "stream",
     "text": [
      "0.6666666666666666 -1.0\n"
     ]
    }
   ],
   "source": [
    "a = 6\n",
    "b = 2\n",
    "c = -4\n",
    "\n",
    "x1 = (-b+math.sqrt((b**2) - (4*a*c)))/(2*a)\n",
    "x2 = (-b-math.sqrt((b**2) - (4*a*c)))/(2*a)\n",
    "\n",
    "print(x1, x2)"
   ]
  },
  {
   "cell_type": "code",
   "execution_count": 117,
   "id": "93485402-b486-4200-9ab9-5b661d84270b",
   "metadata": {},
   "outputs": [
    {
     "name": "stdout",
     "output_type": "stream",
     "text": [
      "104.0\n"
     ]
    }
   ],
   "source": [
    "print((40*(9/5))+32)"
   ]
  },
  {
   "cell_type": "code",
   "execution_count": 122,
   "id": "16f9dee3-c0a9-467d-9c54-e3ed052552c6",
   "metadata": {},
   "outputs": [
    {
     "name": "stdout",
     "output_type": "stream",
     "text": [
      "128.72\n"
     ]
    }
   ],
   "source": [
    "print (80*1.609)"
   ]
  },
  {
   "cell_type": "code",
   "execution_count": 131,
   "id": "ad206201-6392-46bd-91d0-6a60ca97b1c3",
   "metadata": {},
   "outputs": [
    {
     "name": "stdout",
     "output_type": "stream",
     "text": [
      "200.0 days\n"
     ]
    }
   ],
   "source": [
    "s = 81\n",
    "p = 900\n",
    "r = 0.045\n",
    "t = (100*s)/(p*r)\n",
    "print(t, 'days')"
   ]
  },
  {
   "cell_type": "code",
   "execution_count": 151,
   "id": "641dfa24-3f9a-481e-aa5e-e944c3779517",
   "metadata": {},
   "outputs": [
    {
     "name": "stdout",
     "output_type": "stream",
     "text": [
      "8 %\n"
     ]
    }
   ],
   "source": [
    "s = 750\n",
    "p = 4500\n",
    "r = (100*s)/(p*t)\n",
    "t = 2 \n",
    "print ((r), '%')"
   ]
  },
  {
   "cell_type": "code",
   "execution_count": 152,
   "id": "4fa0e5e9-323e-41aa-adcf-d47b14eaf11f",
   "metadata": {},
   "outputs": [
    {
     "name": "stdout",
     "output_type": "stream",
     "text": [
      "7380 dollars\n"
     ]
    }
   ],
   "source": [
    "s = 1230\n",
    "p = (100*s)/(t*r)\n",
    "r = 0.05\n",
    "t = 6\n",
    "print (round(p), 'dollars')"
   ]
  },
  {
   "cell_type": "code",
   "execution_count": null,
   "id": "2595c47c-d3e9-44cb-af30-b11e11c1f60b",
   "metadata": {},
   "outputs": [],
   "source": []
  }
 ],
 "metadata": {
  "kernelspec": {
   "display_name": "base",
   "language": "python",
   "name": "base"
  },
  "language_info": {
   "codemirror_mode": {
    "name": "ipython",
    "version": 3
   },
   "file_extension": ".py",
   "mimetype": "text/x-python",
   "name": "python",
   "nbconvert_exporter": "python",
   "pygments_lexer": "ipython3",
   "version": "3.9.12"
  },
  "toc-showcode": false
 },
 "nbformat": 4,
 "nbformat_minor": 5
}
